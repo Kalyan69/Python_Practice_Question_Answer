# Why __init__() is Used?
# Object Initialization: It allows setting up the initial state of an object (e.g., assigning values to attributes) when the object is created.

# Code Simplification: Eliminates the need to explicitly call an initialization method after creating the object.

# Flexibility: It can accept arguments to customize the object's attributes during instantiation.

class Student:
    def __init__(self, name, age, grade):  # Constructor with parameters
        self.name = name  # Initialize 'name' attribute
        self.age = age    # Initialize 'age' attribute
        self.grade = grade  # Initialize 'grade' attribute

    def display_info(self):
        print(f"Name: {self.name}, Age: {self.age}, Grade: {self.grade}")

# Create instances of the Student class
student1 = Student("Alice", 20, "A")
student2 = Student("Bob", 22, "B")

# Access attributes and methods
student1.display_info()  # Output: Name: Alice, Age: 20, Grade: A
student2.display_info()  # Output: Name: Bob, Age: 22, Grade: B
