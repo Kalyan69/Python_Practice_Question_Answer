#  What is Inheritance?
# Definition:
# Inheritance is a feature in OOP that allows a child class to inherit attributes and methods from a parent class, enabling code reuse and hierarchical relationships.



# Single Inheritance:
# A child class inherits from one parent class.

class Parent:
    def greet(self):
        print("Hello from Parent")

class Child(Parent):
    pass

obj = Child()
obj.greet()  # Output: Hello from Parent


# Multiple Inheritance:
# A child class inherits from multiple parent classes.

class Parent1:
    def greet(self):
        print("Hello from Parent1")

class Parent2:
    def say_hi(self):
        print("Hi from Parent2")

class Child(Parent1, Parent2):
    pass

obj = Child()
obj.greet()  # Output: Hello from Parent1
obj.say_hi()  # Output: Hi from Parent2


# Multilevel Inheritance:
# A class inherits from another class, which in turn inherits from another.

class Grandparent:
    def greet(self):
        print("Hello from Grandparent")

class Parent(Grandparent):
    pass

class Child(Parent):
    pass

obj = Child()
obj.greet()  # Output: Hello from Grandparent


# Hierarchical Inheritance:
# Multiple child classes inherit from the same parent class.

class Parent:
    def greet(self):
        print("Hello from Parent")

class Child1(Parent):
    pass

class Child2(Parent):
    pass

obj1 = Child1()
obj2 = Child2()
obj1.greet()  # Output: Hello from Parent
obj2.greet()  # Output: Hello from Parent


# Hybrid Inheritance:
# A combination of multiple and multilevel inheritance.

# python
# Copy code
class Parent:
    def greet(self):
        print("Hello from Parent")

class Child1(Parent):
    pass

class Child2(Parent):
    pass

class Grandchild(Child1, Child2):
    pass

obj = Grandchild()
obj.greet()  # Output: Hello from Parent


