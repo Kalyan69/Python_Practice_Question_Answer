# Define a class
class Car:
    def __init__(self, brand, model, color):
        self.brand = brand  # Attribute
        self.model = model  # Attribute
        self.color = color  # Attribute

    def display_details(self):
        print(f"Brand: {self.brand}, Model: {self.model}, Color: {self.color}")

    
    def start_engine(self):
        print(f"{self.brand} {self.model}'s engine has started.")


car1 = Car("Toyota", "Corolla", "Red")
car2 = Car("Honda", "Civic", "Blue")


car1.display_details() 
car2.start_engine()     
